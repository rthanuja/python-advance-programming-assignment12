{
 "cells": [
  {
   "cell_type": "code",
   "execution_count": 1,
   "id": "91655a60",
   "metadata": {},
   "outputs": [],
   "source": [
    "#1.ADDITION\n",
    "def meme_sum(a,b):\n",
    "    a,b=str(min(a,b)),str(max(a,b))\n",
    "    l=[]\n",
    "    for i in range(-1,-len(a)-1,-1):\n",
    "        l.append(str(int(a[i])+int(b[i])))\n",
    "    l.reverse() \n",
    "    if len(a)==len(b):\n",
    "        l=\"\".join(l)\n",
    "        return int(l)\n",
    "    else:\n",
    "        l.insert(0,b[:(len(b)-len(a))])\n",
    "        l=\"\".join(l)\n",
    "        return int(l)\n",
    "        "
   ]
  },
  {
   "cell_type": "code",
   "execution_count": 2,
   "id": "cdf7bb11",
   "metadata": {},
   "outputs": [
    {
     "data": {
      "text/plain": [
       "515"
      ]
     },
     "execution_count": 2,
     "metadata": {},
     "output_type": "execute_result"
    }
   ],
   "source": [
    "meme_sum(26,39)"
   ]
  },
  {
   "cell_type": "code",
   "execution_count": 3,
   "id": "b0b78b4b",
   "metadata": {},
   "outputs": [
    {
     "data": {
      "text/plain": [
       "1103"
      ]
     },
     "execution_count": 3,
     "metadata": {},
     "output_type": "execute_result"
    }
   ],
   "source": [
    "meme_sum(122,81)"
   ]
  },
  {
   "cell_type": "code",
   "execution_count": 4,
   "id": "c921f5bb",
   "metadata": {},
   "outputs": [
    {
     "data": {
      "text/plain": [
       "31499"
      ]
     },
     "execution_count": 4,
     "metadata": {},
     "output_type": "execute_result"
    }
   ],
   "source": [
    "meme_sum(1222,30277)"
   ]
  },
  {
   "cell_type": "code",
   "execution_count": 5,
   "id": "801325bc",
   "metadata": {},
   "outputs": [],
   "source": [
    "#2. Given an integer, create a function that returns the next prime. If the number is prime, return the number itself.\n",
    "def next_prime(n):\n",
    "    i=2\n",
    "    while(i<=n//2+1):\n",
    "        if n%i==0:\n",
    "            n+=1\n",
    "            i=2\n",
    "        else:\n",
    "            i+=1\n",
    "    return n\n",
    "    "
   ]
  },
  {
   "cell_type": "code",
   "execution_count": 6,
   "id": "0666fdac",
   "metadata": {},
   "outputs": [
    {
     "data": {
      "text/plain": [
       "13"
      ]
     },
     "execution_count": 6,
     "metadata": {},
     "output_type": "execute_result"
    }
   ],
   "source": [
    "next_prime(12)"
   ]
  },
  {
   "cell_type": "code",
   "execution_count": 7,
   "id": "72da8a65",
   "metadata": {},
   "outputs": [
    {
     "data": {
      "text/plain": [
       "29"
      ]
     },
     "execution_count": 7,
     "metadata": {},
     "output_type": "execute_result"
    }
   ],
   "source": [
    "next_prime(24)"
   ]
  },
  {
   "cell_type": "code",
   "execution_count": 8,
   "id": "6a5e10c4",
   "metadata": {},
   "outputs": [
    {
     "data": {
      "text/plain": [
       "11"
      ]
     },
     "execution_count": 8,
     "metadata": {},
     "output_type": "execute_result"
    }
   ],
   "source": [
    "next_prime(11)"
   ]
  },
  {
   "cell_type": "code",
   "execution_count": 9,
   "id": "8dfbf12f",
   "metadata": {},
   "outputs": [],
   "source": [
    "'''3.If a person traveled up a hill for 18mins at 20mph and then traveled back down the same path at 60mph then their average \n",
    "speed traveled was 30mph.Write a function that returns the average speed traveled given an uphill time,uphill rate and a \n",
    "downhill rate. Uphill time is given in minutes. Return the rate as an integer (mph). No rounding is necessary.'''\n",
    "def avgspeed(t1,v1,v2):\n",
    "    s=(2*v1*v2)/(v1+v2)\n",
    "    return int(s)"
   ]
  },
  {
   "cell_type": "code",
   "execution_count": 10,
   "id": "8eff1713",
   "metadata": {},
   "outputs": [
    {
     "data": {
      "text/plain": [
       "30"
      ]
     },
     "execution_count": 10,
     "metadata": {},
     "output_type": "execute_result"
    }
   ],
   "source": [
    "avgspeed(18,20,60)"
   ]
  },
  {
   "cell_type": "code",
   "execution_count": 11,
   "id": "8a45efff",
   "metadata": {},
   "outputs": [
    {
     "data": {
      "text/plain": [
       "15"
      ]
     },
     "execution_count": 11,
     "metadata": {},
     "output_type": "execute_result"
    }
   ],
   "source": [
    "avgspeed(30,10,30)"
   ]
  },
  {
   "cell_type": "code",
   "execution_count": 12,
   "id": "09974f0c",
   "metadata": {},
   "outputs": [
    {
     "data": {
      "text/plain": [
       "12"
      ]
     },
     "execution_count": 12,
     "metadata": {},
     "output_type": "execute_result"
    }
   ],
   "source": [
    "avgspeed(30,8,24)"
   ]
  },
  {
   "cell_type": "code",
   "execution_count": 13,
   "id": "8528eaeb",
   "metadata": {},
   "outputs": [],
   "source": [
    "'''4. The Kempner Function, applied to a composite number, permits to find the smallest integer greater than zero whose\n",
    "factorial is exactly divided by the number.'''\n",
    "import math\n",
    "def kempner(n):\n",
    "    i=1\n",
    "    while(i!=0):\n",
    "        if (math.factorial(i))%n==0:\n",
    "            return i\n",
    "        else:\n",
    "            i+=1\n",
    "      "
   ]
  },
  {
   "cell_type": "code",
   "execution_count": 14,
   "id": "466386e6",
   "metadata": {},
   "outputs": [
    {
     "data": {
      "text/plain": [
       "3"
      ]
     },
     "execution_count": 14,
     "metadata": {},
     "output_type": "execute_result"
    }
   ],
   "source": [
    "kempner(6)"
   ]
  },
  {
   "cell_type": "code",
   "execution_count": 15,
   "id": "3076810c",
   "metadata": {},
   "outputs": [
    {
     "data": {
      "text/plain": [
       "5"
      ]
     },
     "execution_count": 15,
     "metadata": {},
     "output_type": "execute_result"
    }
   ],
   "source": [
    "kempner(10)"
   ]
  },
  {
   "cell_type": "code",
   "execution_count": 16,
   "id": "be811b50",
   "metadata": {},
   "outputs": [
    {
     "data": {
      "text/plain": [
       "5"
      ]
     },
     "execution_count": 16,
     "metadata": {},
     "output_type": "execute_result"
    }
   ],
   "source": [
    "kempner(5)"
   ]
  },
  {
   "cell_type": "code",
   "execution_count": 17,
   "id": "d2639557",
   "metadata": {},
   "outputs": [
    {
     "data": {
      "text/plain": [
       "2"
      ]
     },
     "execution_count": 17,
     "metadata": {},
     "output_type": "execute_result"
    }
   ],
   "source": [
    "kempner(2)"
   ]
  },
  {
   "cell_type": "code",
   "execution_count": 18,
   "id": "cec05f44",
   "metadata": {},
   "outputs": [],
   "source": [
    "'''5. You work in a factory, and your job is to take items from a conveyor belt and pack them into boxes. Each box can\n",
    "hold a maximum of 10 kgs. Given alist containing the weight (in kg) of each item, how many boxes would you\n",
    "need to pack all of the items?'''\n",
    "def boxes(l):\n",
    "    b,s=0,0\n",
    "    for i in range(len(l)):\n",
    "        s+=l[i]\n",
    "        if s<10:\n",
    "            if i<len(l)-1:\n",
    "                if s+l[i+1]>10:\n",
    "                    b+=1\n",
    "                    s=0\n",
    "            elif i==len(l)-1:\n",
    "                if s>0:\n",
    "                    b+=1\n",
    "        elif s==10:\n",
    "            b+=1\n",
    "            s=0\n",
    "                 \n",
    "    return b\n"
   ]
  },
  {
   "cell_type": "code",
   "execution_count": 19,
   "id": "2086e348",
   "metadata": {},
   "outputs": [
    {
     "data": {
      "text/plain": [
       "5"
      ]
     },
     "execution_count": 19,
     "metadata": {},
     "output_type": "execute_result"
    }
   ],
   "source": [
    "boxes([2, 1, 2, 5, 4, 3, 6, 1, 1, 9, 3, 2])"
   ]
  }
 ],
 "metadata": {
  "kernelspec": {
   "display_name": "Python 3 (ipykernel)",
   "language": "python",
   "name": "python3"
  },
  "language_info": {
   "codemirror_mode": {
    "name": "ipython",
    "version": 3
   },
   "file_extension": ".py",
   "mimetype": "text/x-python",
   "name": "python",
   "nbconvert_exporter": "python",
   "pygments_lexer": "ipython3",
   "version": "3.10.9"
  }
 },
 "nbformat": 4,
 "nbformat_minor": 5
}
